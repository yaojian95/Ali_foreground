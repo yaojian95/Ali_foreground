{
 "cells": [
  {
   "cell_type": "code",
   "execution_count": 2,
   "metadata": {
    "ExecuteTime": {
     "end_time": "2020-05-13T23:32:38.357407Z",
     "start_time": "2020-05-13T23:32:37.117635Z"
    }
   },
   "outputs": [
    {
     "name": "stdout",
     "output_type": "stream",
     "text": [
      "NSIDE = 1024\n",
      "ORDERING = RING in fits file\n",
      "INDXSCHM = IMPLICIT\n"
     ]
    }
   ],
   "source": [
    "import healpy as hp\n",
    "import numpy as np\n",
    "import pymaster as nmt\n",
    "import imp\n",
    "import matplotlib.pyplot as plt\n",
    "\n",
    "from Pseudo_Cl import Pseudo_Cl\n",
    "\n",
    "import utils\n",
    "\n",
    "%matplotlib inline"
   ]
  },
  {
   "cell_type": "markdown",
   "metadata": {},
   "source": [
    "# Data"
   ]
  },
  {
   "cell_type": "code",
   "execution_count": 3,
   "metadata": {
    "ExecuteTime": {
     "end_time": "2020-05-13T23:32:41.162354Z",
     "start_time": "2020-05-13T23:32:40.526842Z"
    }
   },
   "outputs": [],
   "source": [
    "cmb = hp.read_map('/home/jianyao/Ali_maps/data/TQU_CMB_r7.fits', field = None, verbose = False)\n",
    "\n",
    "ali_ma = hp.read_map('/home/jianyao/Ali_maps/data/ali_mask_r7.fits', verbose = False)\n",
    "\n",
    "fore30 = hp.read_map('/home/jianyao/Ali_maps/data/TQU_30GHz_r7.fits', field = None, verbose = False);\n",
    "fore95 = hp.read_map('/home/jianyao/Ali_maps/data/TQU_95GHz_r7.fits', field = None, verbose = False);\n",
    "fore150 = hp.read_map('/home/jianyao/Ali_maps/data/TQU_150GHz_r7.fits', field = None, verbose = False)\n",
    "fore353 = hp.read_map('/home/jianyao/Ali_maps/data/TQU_353GHz_r7.fits', field = None, verbose = False)"
   ]
  },
  {
   "cell_type": "code",
   "execution_count": 4,
   "metadata": {
    "ExecuteTime": {
     "end_time": "2020-05-13T23:32:41.433325Z",
     "start_time": "2020-05-13T23:32:41.427081Z"
    }
   },
   "outputs": [],
   "source": [
    "nside = 128;"
   ]
  },
  {
   "cell_type": "code",
   "execution_count": 5,
   "metadata": {
    "ExecuteTime": {
     "end_time": "2020-05-13T23:32:41.992733Z",
     "start_time": "2020-05-13T23:32:41.986570Z"
    }
   },
   "outputs": [],
   "source": [
    "mask_index = np.where(ali_ma==1)[0]"
   ]
  },
  {
   "cell_type": "code",
   "execution_count": 6,
   "metadata": {
    "ExecuteTime": {
     "end_time": "2020-05-13T23:32:44.131374Z",
     "start_time": "2020-05-13T23:32:42.686672Z"
    }
   },
   "outputs": [],
   "source": [
    "Noise_var = np.zeros((4, 3, 12*nside**2))\n",
    "Noise_var[0] = hp.read_map('/home/jianyao/Ali_maps/data/TQU_var_30GHz_r7.fits', field = None, verbose = False);\n",
    "Noise_var[1] = hp.read_map('/home/jianyao/Ali_maps/data/TQU_var_95GHz_r7.fits', field = None, verbose = False);\n",
    "Noise_var[2] = hp.read_map('/home/jianyao/Ali_maps/data/TQU_var_150GHz_r7.fits', field = None, verbose = False);\n",
    "Noise_var[3] = hp.read_map('/home/jianyao/Ali_maps/data/TQU_var_353GHz_r7.fits', field = None, verbose = False);"
   ]
  },
  {
   "cell_type": "markdown",
   "metadata": {},
   "source": [
    "# PS"
   ]
  },
  {
   "cell_type": "code",
   "execution_count": 133,
   "metadata": {
    "ExecuteTime": {
     "end_time": "2020-05-13T20:52:34.054190Z",
     "start_time": "2020-05-13T20:52:34.006103Z"
    }
   },
   "outputs": [],
   "source": [
    "ps_e = Pseudo_Cl(mask_in = ali_ma, nside = 128, bin_w = 20, lmax = 200)"
   ]
  },
  {
   "cell_type": "code",
   "execution_count": 134,
   "metadata": {
    "ExecuteTime": {
     "end_time": "2020-05-13T20:52:39.599407Z",
     "start_time": "2020-05-13T20:52:34.807871Z"
    }
   },
   "outputs": [],
   "source": [
    "SamNum = 1\n",
    "for n in range(SamNum):\n",
    "\n",
    "    Noise = np.zeros((4, 3, 12*nside**2)); \n",
    "    for i in range(4):\n",
    "        for k in mask_index:\n",
    "            Noise[i,1,k] = np.random.normal(0, np.sqrt(Noise_var[i,1,k]));\n",
    "            Noise[i,2,k] = np.random.normal(0, np.sqrt(Noise_var[i,2,k]));\n",
    "\n",
    "    total = np.zeros((4, 3, 12*nside**2))\n",
    "    total[0] = fore30 + Noise[0]\n",
    "    total[1] = fore95 + Noise[1]\n",
    "    total[2] = fore150 + Noise[2]\n",
    "    total[3] = fore353 + Noise[3]\n",
    "    \n",
    "    nl_i = ps_e.Cross_EB(Noise)\n",
    "    total_ps_i = ps_e.Cross_EB(total)\n",
    "    \n",
    "    np.save('/home/jianyao/Ali_maps/data/nl/nl_%s.npy'%n, nl_i)\n",
    "    np.save('/home/jianyao/Ali_maps/data/tcl/tcl_%s.npy'%n, total_ps_i)"
   ]
  },
  {
   "cell_type": "code",
   "execution_count": 149,
   "metadata": {
    "ExecuteTime": {
     "end_time": "2020-05-13T20:54:25.550861Z",
     "start_time": "2020-05-13T20:54:25.544543Z"
    }
   },
   "outputs": [
    {
     "data": {
      "text/plain": [
       "array([[0.00869904, 0.00071694, 0.00077095, 0.00610391],\n",
       "       [0.00071694, 0.00062355, 0.00063275, 0.00712283],\n",
       "       [0.00077095, 0.00063275, 0.00131389, 0.01785745],\n",
       "       [0.00610391, 0.00712283, 0.01785745, 0.39584765]])"
      ]
     },
     "execution_count": 149,
     "metadata": {},
     "output_type": "execute_result"
    }
   ],
   "source": [
    "total_ps_i[0][2]"
   ]
  },
  {
   "cell_type": "code",
   "execution_count": 138,
   "metadata": {
    "ExecuteTime": {
     "end_time": "2020-05-13T20:53:01.162498Z",
     "start_time": "2020-05-13T20:53:01.156104Z"
    }
   },
   "outputs": [
    {
     "data": {
      "text/plain": [
       "array([[ 1.52877901e-04,  6.03479248e-06, -1.65701058e-04,\n",
       "         5.29929324e-04],\n",
       "       [ 6.03479248e-06, -1.24339915e-03, -1.44140116e-04,\n",
       "        -5.61962013e-04],\n",
       "       [-1.65701058e-04, -1.44140116e-04,  3.22494328e-05,\n",
       "         2.79926098e-04],\n",
       "       [ 5.29929324e-04, -5.61962013e-04,  2.79926098e-04,\n",
       "        -3.84809691e-05]])"
      ]
     },
     "execution_count": 138,
     "metadata": {},
     "output_type": "execute_result"
    }
   ],
   "source": [
    "nl_i[0][0]"
   ]
  },
  {
   "cell_type": "code",
   "execution_count": 165,
   "metadata": {
    "ExecuteTime": {
     "end_time": "2020-05-13T21:14:02.466490Z",
     "start_time": "2020-05-13T21:14:02.461119Z"
    }
   },
   "outputs": [],
   "source": [
    "b = nmt.NmtBin(128, nlb=20, lmax = 200); ell_n = b.get_effective_ells(); eln2 = utils.l2(ell_n)"
   ]
  },
  {
   "cell_type": "code",
   "execution_count": 166,
   "metadata": {
    "ExecuteTime": {
     "end_time": "2020-05-13T21:14:03.874629Z",
     "start_time": "2020-05-13T21:14:03.028707Z"
    }
   },
   "outputs": [],
   "source": [
    "mask = nmt.mask_apodization(ali_ma, 5, apotype='Smooth') \n",
    "\n",
    "b_real = nmt.NmtField(mask,cmb[1:], purify_e=False, purify_b=True)\n",
    "cl_real = nmt.compute_full_master(b_real, b_real, b) # real"
   ]
  },
  {
   "cell_type": "markdown",
   "metadata": {},
   "source": [
    "# ABS"
   ]
  },
  {
   "cell_type": "code",
   "execution_count": 272,
   "metadata": {
    "ExecuteTime": {
     "end_time": "2020-05-13T22:49:11.049575Z",
     "start_time": "2020-05-13T22:49:10.992775Z"
    }
   },
   "outputs": [],
   "source": [
    "SamNum = 100; path = '/home/jianyao/Ali_maps/data/'\n",
    "Q = len(ell_n); Nf = 4\n",
    "nl_all_bin = np.ones((SamNum, Q, Nf, Nf))\n",
    "\n",
    "for i in range(SamNum):\n",
    "    noise_ps_i = np.load('%s/nl/nl_%s.npy'%(path, i))\n",
    "    \n",
    "    for l in range(Q):\n",
    "        noise_ps_i[0][l] *= eln2[l]\n",
    "        noise_ps_i[1][l] *= eln2[l]\n",
    "   \n",
    "    nl_all_bin[i] = noise_ps_i[1] #bin_l(noise_ps_i[0], lmax, Q); \n",
    "#     nl_all_bin[i,1] = noise_ps_i[1] #bin_l(noise_ps_i[1], lmax, Q)\n",
    "    \n",
    "nl_bin_mean_all = np.mean(nl_all_bin, axis = 0); nl_bin_std_all = np.std(nl_all_bin, axis = 0)"
   ]
  },
  {
   "cell_type": "code",
   "execution_count": 301,
   "metadata": {
    "ExecuteTime": {
     "end_time": "2020-05-13T23:18:24.707194Z",
     "start_time": "2020-05-13T23:18:24.699010Z"
    }
   },
   "outputs": [
    {
     "data": {
      "text/plain": [
       "<module 'ABS_ILC_class' from '/home/jianyao/Ali_maps/codes/ABS_ILC_class.py'>"
      ]
     },
     "execution_count": 301,
     "metadata": {},
     "output_type": "execute_result"
    }
   ],
   "source": [
    "import ABS_ILC_class\n",
    "imp.reload(ABS_ILC_class)"
   ]
  },
  {
   "cell_type": "code",
   "execution_count": 302,
   "metadata": {
    "ExecuteTime": {
     "end_time": "2020-05-13T23:18:25.203704Z",
     "start_time": "2020-05-13T23:18:25.199380Z"
    }
   },
   "outputs": [],
   "source": [
    "abs_e = ABS_ILC_class.ABS(nside, lmax = 200, bin_w=20, cut = 1)"
   ]
  },
  {
   "cell_type": "code",
   "execution_count": 303,
   "metadata": {
    "ExecuteTime": {
     "end_time": "2020-05-13T23:18:26.947299Z",
     "start_time": "2020-05-13T23:18:26.927716Z"
    }
   },
   "outputs": [],
   "source": [
    "Cl = np.zeros((SamNum, Q)); sel = [0,1,2,3]; ClEE = np.zeros((SamNum, Q))\n",
    "\n",
    "for n in range(1):#(SamNum):\n",
    "    \n",
    "    total_cl = np.load('%s/tcl/tcl_%s.npy'%(path, n))\n",
    "    \n",
    "    for l in range(Q):\n",
    "        total_cl[0][l] *= eln2[l]\n",
    "        total_cl[1][l] *= eln2[l]\n",
    "        \n",
    "        \n",
    "    Cl[n] = abs_e.run(total_cl[1], nl_bin_mean_all, nl_bin_std_all, sel)\n",
    "#     ClEE[n] = abs_e.run(total_cl[0], nl_bin_mean_all, nl_bin_std_all, sel)"
   ]
  },
  {
   "cell_type": "code",
   "execution_count": 300,
   "metadata": {
    "ExecuteTime": {
     "end_time": "2020-05-13T23:15:21.168915Z",
     "start_time": "2020-05-13T23:15:21.160706Z"
    }
   },
   "outputs": [
    {
     "data": {
      "text/plain": [
       "2.3141476640801795"
      ]
     },
     "execution_count": 300,
     "metadata": {},
     "output_type": "execute_result"
    }
   ],
   "source": [
    "1/np.sqrt(0.18673162)"
   ]
  },
  {
   "cell_type": "code",
   "execution_count": 276,
   "metadata": {
    "ExecuteTime": {
     "end_time": "2020-05-13T22:49:16.709293Z",
     "start_time": "2020-05-13T22:49:16.704963Z"
    }
   },
   "outputs": [],
   "source": [
    "cl_abs_mean = np.mean(Cl, axis = 0)\n",
    "cl_abs_std = np.std(Cl, axis = 0)\n",
    "\n",
    "cl_abs_ee_mean = np.mean(ClEE, axis = 0);\n",
    "cl_abs_ee_std = np.mean(ClEE, axis = 0);"
   ]
  },
  {
   "cell_type": "code",
   "execution_count": 277,
   "metadata": {
    "ExecuteTime": {
     "end_time": "2020-05-13T22:49:17.833415Z",
     "start_time": "2020-05-13T22:49:17.391766Z"
    }
   },
   "outputs": [
    {
     "data": {
      "text/plain": [
       "Text(0, 0.5, '$D_{\\\\ell}(\\\\mu K^2)$')"
      ]
     },
     "execution_count": 277,
     "metadata": {},
     "output_type": "execute_result"
    },
    {
     "data": {
      "image/png": "[encoded data removed]",
      "text/plain": [
       "<Figure size 432x288 with 1 Axes>"
      ]
     },
     "metadata": {
      "needs_background": "light"
     },
     "output_type": "display_data"
    }
   ],
   "source": [
    "plt.loglog(ell_n, eln2*cl_real[3],'r-', label = 'real')\n",
    "plt.loglog(ell_n, cl_abs_mean, 'g-', label = 'ABS')\n",
    "\n",
    "# plt.loglog(ell_n, eln2*cl_real[0],'b-', label = 'real EE')\n",
    "# plt.loglog(ell_n, cl_abs_ee_mean, 'b--', label = 'ABS EE')\n",
    "\n",
    "# plt.errorbar(ell_n, eln2*cl_abs_ee_mean, yerr=eln2*cl_abs_ee_std, fmt = 'ko')\n",
    "\n",
    "plt.errorbar(ell_n, cl_abs_mean, yerr=cl_abs_std, fmt = 'ko')\n",
    "plt.legend(fontsize = 15)\n",
    "\n",
    "# plt.ylim(1e-4, 10)\n",
    "plt.xlabel('$\\ell$', fontsize = 20);\n",
    "plt.ylabel('$D_{\\ell}(\\mu K^2)$', fontsize = 20)"
   ]
  },
  {
   "cell_type": "code",
   "execution_count": 279,
   "metadata": {
    "ExecuteTime": {
     "end_time": "2020-05-13T22:49:45.197328Z",
     "start_time": "2020-05-13T22:49:45.192555Z"
    }
   },
   "outputs": [
    {
     "data": {
      "text/plain": [
       "array([0.0825395 , 0.27719142, 0.01446363, 0.01980771, 0.02373746,\n",
       "       0.03930774, 0.04523517, 0.05313045, 0.0618264 ])"
      ]
     },
     "execution_count": 279,
     "metadata": {},
     "output_type": "execute_result"
    }
   ],
   "source": [
    "cl_abs_std"
   ]
  },
  {
   "cell_type": "code",
   "execution_count": 278,
   "metadata": {
    "ExecuteTime": {
     "end_time": "2020-05-13T22:49:26.067570Z",
     "start_time": "2020-05-13T22:49:26.062527Z"
    }
   },
   "outputs": [
    {
     "data": {
      "text/plain": [
       "array([-6.25243490e-02, -1.14203761e+00,  5.75096661e-05,  2.39409439e-03,\n",
       "        3.21765276e-03,  2.77016007e-03,  2.83942637e-03,  3.03308817e-03,\n",
       "        3.71766459e-03])"
      ]
     },
     "execution_count": 278,
     "metadata": {},
     "output_type": "execute_result"
    }
   ],
   "source": [
    "cl_abs_mean"
   ]
  },
  {
   "cell_type": "markdown",
   "metadata": {},
   "source": [
    "# compare"
   ]
  },
  {
   "cell_type": "code",
   "execution_count": 173,
   "metadata": {
    "ExecuteTime": {
     "end_time": "2020-05-13T21:17:41.353718Z",
     "start_time": "2020-05-13T21:17:41.349115Z"
    }
   },
   "outputs": [],
   "source": [
    "tcl = np.load('/home/jianyao/Ali_maps/data/tcl/tcl_0.npy')"
   ]
  },
  {
   "cell_type": "code",
   "execution_count": 179,
   "metadata": {
    "ExecuteTime": {
     "end_time": "2020-05-13T21:19:16.306094Z",
     "start_time": "2020-05-13T21:19:16.299823Z"
    }
   },
   "outputs": [
    {
     "data": {
      "text/plain": [
       "array([ 11.5,  31.5,  51.5,  71.5,  91.5, 111.5, 131.5, 151.5, 171.5])"
      ]
     },
     "execution_count": 179,
     "metadata": {},
     "output_type": "execute_result"
    }
   ],
   "source": [
    "ell_n"
   ]
  },
  {
   "cell_type": "code",
   "execution_count": 184,
   "metadata": {
    "ExecuteTime": {
     "end_time": "2020-05-13T21:21:16.635521Z",
     "start_time": "2020-05-13T21:21:16.227733Z"
    }
   },
   "outputs": [
    {
     "data": {
      "text/plain": [
       "[<matplotlib.lines.Line2D at 0x7fb06cd15e80>]"
      ]
     },
     "execution_count": 184,
     "metadata": {},
     "output_type": "execute_result"
    },
    {
     "data": {
      "image/png": "[encoded data removed]",
      "text/plain": [
       "<Figure size 432x288 with 1 Axes>"
      ]
     },
     "metadata": {
      "needs_background": "light"
     },
     "output_type": "display_data"
    }
   ],
   "source": [
    "plt.loglog(ell_n,(tcl[0,:,0,0]))\n",
    "plt.loglog(ell_n, (tcl[1,:,0,0]))"
   ]
  },
  {
   "cell_type": "code",
   "execution_count": 178,
   "metadata": {
    "ExecuteTime": {
     "end_time": "2020-05-13T21:18:30.969562Z",
     "start_time": "2020-05-13T21:18:30.963261Z"
    }
   },
   "outputs": [
    {
     "data": {
      "text/plain": [
       "array([ 2.80852888, -0.0657604 ,  0.01267529,  0.00593949,  0.00475747,\n",
       "        0.00459705,  0.00387673,  0.00414663,  0.00385404])"
      ]
     },
     "execution_count": 178,
     "metadata": {},
     "output_type": "execute_result"
    }
   ],
   "source": [
    "tcl[0,:,0,0]"
   ]
  },
  {
   "cell_type": "code",
   "execution_count": null,
   "metadata": {},
   "outputs": [],
   "source": []
  }
 ],
 "metadata": {
  "kernelspec": {
   "display_name": "Python 3",
   "language": "python",
   "name": "python3"
  },
  "language_info": {
   "codemirror_mode": {
    "name": "ipython",
    "version": 3
   },
   "file_extension": ".py",
   "mimetype": "text/x-python",
   "name": "python",
   "nbconvert_exporter": "python",
   "pygments_lexer": "ipython3",
   "version": "3.7.3"
  },
  "toc": {
   "base_numbering": 1,
   "nav_menu": {},
   "number_sections": true,
   "sideBar": true,
   "skip_h1_title": false,
   "title_cell": "Table of Contents",
   "title_sidebar": "Contents",
   "toc_cell": false,
   "toc_position": {},
   "toc_section_display": true,
   "toc_window_display": false
  },
  "varInspector": {
   "cols": {
    "lenName": 16,
    "lenType": 16,
    "lenVar": 40
   },
   "kernels_config": {
    "python": {
     "delete_cmd_postfix": "",
     "delete_cmd_prefix": "del ",
     "library": "var_list.py",
     "varRefreshCmd": "print(var_dic_list())"
    },
    "r": {
     "delete_cmd_postfix": ") ",
     "delete_cmd_prefix": "rm(",
     "library": "var_list.r",
     "varRefreshCmd": "cat(var_dic_list()) "
    }
   },
   "position": {
    "height": "475px",
    "left": "1550px",
    "right": "20px",
    "top": "120px",
    "width": "350px"
   },
   "types_to_exclude": [
    "module",
    "function",
    "builtin_function_or_method",
    "instance",
    "_Feature"
   ],
   "window_display": true
  }
 },
 "nbformat": 4,
 "nbformat_minor": 2
}
