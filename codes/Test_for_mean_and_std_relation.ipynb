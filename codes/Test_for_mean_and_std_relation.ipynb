{
 "cells": [
  {
   "cell_type": "code",
   "execution_count": 2,
   "metadata": {
    "ExecuteTime": {
     "end_time": "2019-12-23T22:14:03.193588Z",
     "start_time": "2019-12-23T22:14:02.558423Z"
    }
   },
   "outputs": [
    {
     "name": "stdout",
     "output_type": "stream",
     "text": [
      "NSIDE = 1024\n",
      "ORDERING = RING in fits file\n",
      "INDXSCHM = IMPLICIT\n"
     ]
    }
   ],
   "source": [
    "import numpy as np\n",
    "import matplotlib.pyplot as plt\n",
    "%matplotlib inline\n",
    "from astropy.io import fits as fits\n",
    "import healpy as hp\n",
    "import pysm \n",
    "from pysm.nominal import models\n",
    "from pysm.common import convert_units\n",
    "import camb\n",
    "from camb import model, initialpower\n",
    "\n",
    "from numpy import linalg as LA\n",
    "\n",
    "import utils"
   ]
  },
  {
   "cell_type": "markdown",
   "metadata": {
    "ExecuteTime": {
     "end_time": "2019-12-24T20:54:09.969182Z",
     "start_time": "2019-12-24T20:54:09.965312Z"
    },
    "heading_collapsed": true
   },
   "source": [
    "## alm_00 and mean "
   ]
  },
  {
   "cell_type": "markdown",
   "metadata": {
    "hidden": true
   },
   "source": [
    "$a_{00} =\\sqrt{4\\pi} \\bar{T}$"
   ]
  },
  {
   "cell_type": "code",
   "execution_count": 72,
   "metadata": {
    "ExecuteTime": {
     "end_time": "2019-12-24T19:48:31.644572Z",
     "start_time": "2019-12-24T19:48:31.634070Z"
    },
    "hidden": true
   },
   "outputs": [],
   "source": [
    "a = np.ones(12*512*512)"
   ]
  },
  {
   "cell_type": "code",
   "execution_count": 73,
   "metadata": {
    "ExecuteTime": {
     "end_time": "2019-12-24T19:48:40.250935Z",
     "start_time": "2019-12-24T19:48:39.721579Z"
    },
    "hidden": true
   },
   "outputs": [
    {
     "data": {
      "text/plain": [
       "array([ 3.54490766e+00+0.j, -1.32659027e-17+0.j, -9.30338835e-08+0.j, ...,\n",
       "        0.00000000e+00+0.j,  0.00000000e+00+0.j,  0.00000000e+00+0.j])"
      ]
     },
     "execution_count": 73,
     "metadata": {},
     "output_type": "execute_result"
    }
   ],
   "source": [
    "hp.map2alm(a)"
   ]
  },
  {
   "cell_type": "code",
   "execution_count": 75,
   "metadata": {
    "ExecuteTime": {
     "end_time": "2019-12-24T19:49:14.812534Z",
     "start_time": "2019-12-24T19:49:14.801829Z"
    },
    "hidden": true
   },
   "outputs": [
    {
     "data": {
      "text/plain": [
       "3.5449077018110318"
      ]
     },
     "execution_count": 75,
     "metadata": {},
     "output_type": "execute_result"
    }
   ],
   "source": [
    "np.mean(a)*np.sqrt(4*np.pi)"
   ]
  },
  {
   "cell_type": "code",
   "execution_count": 66,
   "metadata": {
    "ExecuteTime": {
     "end_time": "2019-12-24T19:44:32.167965Z",
     "start_time": "2019-12-24T19:44:32.107526Z"
    },
    "hidden": true
   },
   "outputs": [],
   "source": [
    "ones = np.arange(12*1024**2)"
   ]
  },
  {
   "cell_type": "code",
   "execution_count": 14,
   "metadata": {
    "ExecuteTime": {
     "end_time": "2019-12-23T22:29:26.230258Z",
     "start_time": "2019-12-23T22:29:23.102457Z"
    },
    "hidden": true
   },
   "outputs": [
    {
     "data": {
      "text/plain": [
       "497407259953750.7"
      ]
     },
     "execution_count": 14,
     "metadata": {},
     "output_type": "execute_result"
    }
   ],
   "source": [
    "hp.anafast(ones)[0]"
   ]
  },
  {
   "cell_type": "code",
   "execution_count": 41,
   "metadata": {
    "ExecuteTime": {
     "end_time": "2019-12-24T17:20:30.906421Z",
     "start_time": "2019-12-24T17:20:30.425076Z"
    },
    "hidden": true
   },
   "outputs": [
    {
     "data": {
      "image/png": "[encoded data removed]",
      "text/plain": [
       "<Figure size 612x388.8 with 2 Axes>"
      ]
     },
     "metadata": {
      "needs_background": "light"
     },
     "output_type": "display_data"
    }
   ],
   "source": [
    "nside = 512\n",
    "mask_none = np.arange(hp.nside2npix(nside))\n",
    "l_deg_min = 80; l_deg_max = 100;  # latitude\n",
    "my_mask = (np.radians(l_deg_max) < hp.pix2ang(nside, mask_none)[0] ) + (hp.pix2ang(nside, mask_none)[0] < np.radians(l_deg_min))\n",
    "hp.mollview(my_mask)"
   ]
  },
  {
   "cell_type": "code",
   "execution_count": 6,
   "metadata": {
    "ExecuteTime": {
     "end_time": "2019-12-23T22:17:27.260025Z",
     "start_time": "2019-12-23T22:17:27.117943Z"
    },
    "hidden": true
   },
   "outputs": [
    {
     "name": "stdout",
     "output_type": "stream",
     "text": [
      "NSIDE = 1024\n",
      "ORDERING = RING in fits file\n",
      "INDXSCHM = IMPLICIT\n"
     ]
    }
   ],
   "source": [
    "ali_ma = hp.read_map('/smc/jianyao/Ali_maps/ali_mask_wo_edge.fits')"
   ]
  },
  {
   "cell_type": "code",
   "execution_count": 83,
   "metadata": {
    "ExecuteTime": {
     "end_time": "2019-12-24T20:31:50.741935Z",
     "start_time": "2019-12-24T20:31:48.905830Z"
    },
    "hidden": true
   },
   "outputs": [],
   "source": [
    "fsky = 1- sum(ali_ma)/(12.0*1024**2)"
   ]
  },
  {
   "cell_type": "code",
   "execution_count": 87,
   "metadata": {
    "ExecuteTime": {
     "end_time": "2019-12-24T20:33:09.574072Z",
     "start_time": "2019-12-24T20:33:09.567468Z"
    },
    "hidden": true
   },
   "outputs": [
    {
     "data": {
      "text/plain": [
       "9.90811004196461"
      ]
     },
     "execution_count": 87,
     "metadata": {},
     "output_type": "execute_result"
    }
   ],
   "source": [
    "cl_ma[0]*(fsky)**2/(1-fsky)**2"
   ]
  },
  {
   "cell_type": "code",
   "execution_count": 88,
   "metadata": {
    "ExecuteTime": {
     "end_time": "2019-12-24T20:33:13.736575Z",
     "start_time": "2019-12-24T20:33:13.730947Z"
    },
    "hidden": true
   },
   "outputs": [
    {
     "data": {
      "text/plain": [
       "9.908107345573118"
      ]
     },
     "execution_count": 88,
     "metadata": {},
     "output_type": "execute_result"
    }
   ],
   "source": [
    "cl_rever[0]"
   ]
  },
  {
   "cell_type": "code",
   "execution_count": 52,
   "metadata": {
    "ExecuteTime": {
     "end_time": "2019-12-24T17:37:39.590198Z",
     "start_time": "2019-12-24T17:37:39.248142Z"
    },
    "hidden": true
   },
   "outputs": [
    {
     "data": {
      "text/plain": [
       "(0.01, 14)"
      ]
     },
     "execution_count": 52,
     "metadata": {},
     "output_type": "execute_result"
    },
    {
     "data": {
      "image/png": "[encoded data removed]",
      "text/plain": [
       "<Figure size 432x288 with 1 Axes>"
      ]
     },
     "metadata": {
      "needs_background": "light"
     },
     "output_type": "display_data"
    }
   ],
   "source": [
    "plt.plot(cl_new, lw = 10)\n",
    "plt.plot(cl_new_re)\n",
    "plt.xscale('log')\n",
    "plt.ylim(0, 0.1)\n",
    "plt.xlim(0.01,14)"
   ]
  },
  {
   "cell_type": "code",
   "execution_count": null,
   "metadata": {
    "hidden": true
   },
   "outputs": [],
   "source": []
  },
  {
   "cell_type": "markdown",
   "metadata": {
    "heading_collapsed": true
   },
   "source": [
    "## mean and std"
   ]
  },
  {
   "cell_type": "code",
   "execution_count": null,
   "metadata": {
    "hidden": true
   },
   "outputs": [],
   "source": [
    "total = np.loadtxt('./cls_r_0p05.txt')\n",
    "\n",
    "lmax = 2000; Q = 50 #lmax + 1\n",
    "cl_all_E = np.zeros((SamNum, Q)); cl_all_B = np.zeros((SamNum, Q))\n",
    "#cl_all_E_l2 = np.zeros((SamNum, Q)); cl_all_B_l2 = np.zeros((SamNum, Q))\n",
    "\n",
    "for i in range(SamNum):\n",
    "    cmb_i =  hp.synfast(total, nside = 1024, verbose = False, new = True)\n",
    "    alms_i = hp.map2alm(utils.Mask(cmb_i))\n",
    "    alms_i[2] *= 10\n",
    "    cls_i = hp.alm2cl(alms_i)\n",
    "#     hp.write_map('/smc/jianyao/Ali_maps/cmb_0.05_realizations/cmb_IQU_%s.fits'%(i), cmb_i)\n",
    "#     cls_i = hp.anafast(Mask(cmb_i), lmax = lmax, nspec = 3) ## sky with ali_mask\n",
    "    cl_all_E[i] = utils.bin_l(cls_i[1], lmax, Q) ## EE cls_i[1] #\n",
    "    cl_all_B[i] = utils.bin_l(cls_i[2], lmax, Q) ## BB cls_i[2] #"
   ]
  },
  {
   "cell_type": "code",
   "execution_count": null,
   "metadata": {
    "hidden": true
   },
   "outputs": [],
   "source": []
  },
  {
   "cell_type": "code",
   "execution_count": null,
   "metadata": {
    "hidden": true
   },
   "outputs": [],
   "source": [
    "cl_mean_E = np.mean(cl_all_E, axis = 0)\n",
    "cl_mean_B = np.mean(cl_all_B, axis = 0)\n",
    "\n",
    "cl_std_E = np.std(cl_all_E, axis = 0)\n",
    "cl_std_B = np.std(cl_all_B, axis = 0)"
   ]
  },
  {
   "cell_type": "code",
   "execution_count": null,
   "metadata": {
    "hidden": true
   },
   "outputs": [],
   "source": [
    "lcl = utils.get_ell(2000, Q)\n",
    "l2 = utils.l2(lcl)\n",
    "\n",
    "plt.loglog(lcl, l2*cl_mean_E*np.sqrt(2.0/((2*lcl+1)*fsky*2000/Q)), label = 'mean-std-E')\n",
    "plt.loglog(lcl, l2*cl_mean_B*np.sqrt(2.0/((2*lcl+1)*fsky*2000/Q)), label = 'mean-std-B')\n",
    "\n",
    "plt.loglog(lcl, l2*cl_std_E, label = 'std_E')\n",
    "plt.loglog(lcl, l2*cl_std_B, label = 'std_B')\n",
    "\n",
    "# plt.loglog(lcl, cl_std_B_l2, label = 'std_B_l2')\n",
    "# plt.loglog(lcl, cl_std_E_l2, label = 'std_E_l2')\n",
    "\n",
    "plt.legend(fontsize = 15)\n",
    "plt.title('$C_{\\ell}$ E, B with $\\Delta \\ell$ = 40')\n",
    "# plt.savefig('/home/jianyao/Ali_maps/results/1220/cmb_e_100*b_masked_sky.jpg', format = 'jpg')"
   ]
  },
  {
   "cell_type": "code",
   "execution_count": null,
   "metadata": {
    "hidden": true
   },
   "outputs": [],
   "source": []
  }
 ],
 "metadata": {
  "kernelspec": {
   "display_name": "Python 3",
   "language": "python",
   "name": "python3"
  },
  "language_info": {
   "codemirror_mode": {
    "name": "ipython",
    "version": 3
   },
   "file_extension": ".py",
   "mimetype": "text/x-python",
   "name": "python",
   "nbconvert_exporter": "python",
   "pygments_lexer": "ipython3",
   "version": "3.7.3"
  },
  "toc": {
   "base_numbering": 1,
   "nav_menu": {},
   "number_sections": true,
   "sideBar": true,
   "skip_h1_title": false,
   "title_cell": "Table of Contents",
   "title_sidebar": "Contents",
   "toc_cell": false,
   "toc_position": {},
   "toc_section_display": true,
   "toc_window_display": false
  },
  "varInspector": {
   "cols": {
    "lenName": 16,
    "lenType": 16,
    "lenVar": 40
   },
   "kernels_config": {
    "python": {
     "delete_cmd_postfix": "",
     "delete_cmd_prefix": "del ",
     "library": "var_list.py",
     "varRefreshCmd": "print(var_dic_list())"
    },
    "r": {
     "delete_cmd_postfix": ") ",
     "delete_cmd_prefix": "rm(",
     "library": "var_list.r",
     "varRefreshCmd": "cat(var_dic_list()) "
    }
   },
   "types_to_exclude": [
    "module",
    "function",
    "builtin_function_or_method",
    "instance",
    "_Feature"
   ],
   "window_display": false
  }
 },
 "nbformat": 4,
 "nbformat_minor": 2
}
