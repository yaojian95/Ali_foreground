{
 "cells": [
  {
   "cell_type": "code",
   "execution_count": 1,
   "metadata": {
    "ExecuteTime": {
     "end_time": "2020-01-19T20:38:47.413896Z",
     "start_time": "2020-01-19T20:38:46.198125Z"
    }
   },
   "outputs": [
    {
     "name": "stdout",
     "output_type": "stream",
     "text": [
      "NSIDE = 1024\n",
      "ORDERING = RING in fits file\n",
      "INDXSCHM = IMPLICIT\n"
     ]
    }
   ],
   "source": [
    "import numpy as np\n",
    "import matplotlib.pyplot as plt\n",
    "%matplotlib inline\n",
    "from astropy.io import fits as fits\n",
    "import healpy as hp\n",
    "import pysm \n",
    "from pysm.nominal import models\n",
    "from pysm.common import convert_units\n",
    "import camb\n",
    "from camb import model, initialpower\n",
    "\n",
    "from numpy import linalg as LA\n",
    "\n",
    "import utils\n",
    "\n",
    "from utils import bin_l as bin_l\n",
    "plt.rcParams['figure.figsize'] = (10.0, 8.0)"
   ]
  },
  {
   "cell_type": "markdown",
   "metadata": {},
   "source": [
    "# Public area"
   ]
  },
  {
   "cell_type": "code",
   "execution_count": 41,
   "metadata": {
    "ExecuteTime": {
     "end_time": "2020-01-19T21:05:37.226757Z",
     "start_time": "2020-01-19T21:04:30.181726Z"
    }
   },
   "outputs": [],
   "source": [
    "ali_ma = hp.read_map('/smc/jianyao/Ali_maps/ali_mask_wo_edge.fits', verbose=False)\n",
    "\n",
    "# I Q U; uK_CMB, 2048\n",
    "dust_95 = hp.ud_grade(hp.read_map('/fnx/jianyao/1205_skyinband_AliCPT/95GHz/thermaldust_map_95GHz.fits', field = None, verbose = False), nside_out=1024)\n",
    "dust_150 = hp.ud_grade(hp.read_map('/fnx/jianyao/1205_skyinband_AliCPT/150GHz/thermaldust_map_150GHz.fits', field = None, verbose = False), nside_out=1024)\n",
    "\n",
    "# IQU, K_CMB, 2048\n",
    "dust_353 = 1e6*hp.ud_grade(hp.read_map('/fnx/jianyao/1205_skyinband_HFI_353/detector_F353/thermaldust_map_detector_F353.fits', field = None, verbose = False), nside_out = 1024)\n",
    "\n",
    "sync_95 = hp.ud_grade(hp.read_map('/fnx/jianyao/1205_skyinband_AliCPT/95GHz/synchrotron_map_95GHz.fits',field = None, verbose = False), nside_out=1024)\n",
    "sync_150 = hp.ud_grade(hp.read_map('/fnx/jianyao/1205_skyinband_AliCPT/150GHz/synchrotron_map_150GHz.fits',field = None, verbose = False), nside_out=1024)\n",
    "sync_353= 1e6*hp.ud_grade(hp.read_map('/fnx/jianyao/1205_skyinband_HFI_353/detector_F353/synchrotron_map_detector_F353.fits',field = None, verbose = False), nside_out=1024)\n",
    "\n",
    "#uK_CMB, 2048, IQU\n",
    "cmb = hp.ud_grade(hp.read_map('/fnx/jianyao/1205_skyinband_AliCPT/95GHz/cmb_map_95GHz.fits', field = None, verbose = False), nside_out=1024)"
   ]
  },
  {
   "cell_type": "code",
   "execution_count": 2,
   "metadata": {
    "ExecuteTime": {
     "end_time": "2020-01-19T20:39:44.557687Z",
     "start_time": "2020-01-19T20:39:44.552764Z"
    }
   },
   "outputs": [],
   "source": [
    "nside = 1024; L = 2000; Q = 200"
   ]
  },
  {
   "cell_type": "code",
   "execution_count": null,
   "metadata": {},
   "outputs": [],
   "source": [
    "cmb_ma = utils.Mask(cmb) \n",
    "cmb_cls = hp.anafast(cmb_ma, lmax = lmax, nspec = 3)\n",
    "ell = np.arange(len(cmb_cls[0])); Q = 200\n",
    "Ell = utils.get_ell(lmax, Q); Ell2 = utils.l2(Ell)\n",
    "\n",
    "clee_clean = utils.bin_l(cmb_cls[1], L, Q); clbb_clean = utils.bin_l(cmb_cls[2], L, Q)"
   ]
  }
 ],
 "metadata": {
  "kernelspec": {
   "display_name": "Python 3",
   "language": "python",
   "name": "python3"
  },
  "language_info": {
   "codemirror_mode": {
    "name": "ipython",
    "version": 3
   },
   "file_extension": ".py",
   "mimetype": "text/x-python",
   "name": "python",
   "nbconvert_exporter": "python",
   "pygments_lexer": "ipython3",
   "version": "3.7.3"
  },
  "toc": {
   "base_numbering": 1,
   "nav_menu": {},
   "number_sections": true,
   "sideBar": true,
   "skip_h1_title": false,
   "title_cell": "Table of Contents",
   "title_sidebar": "Contents",
   "toc_cell": false,
   "toc_position": {},
   "toc_section_display": true,
   "toc_window_display": false
  },
  "varInspector": {
   "cols": {
    "lenName": 16,
    "lenType": 16,
    "lenVar": 40
   },
   "kernels_config": {
    "python": {
     "delete_cmd_postfix": "",
     "delete_cmd_prefix": "del ",
     "library": "var_list.py",
     "varRefreshCmd": "print(var_dic_list())"
    },
    "r": {
     "delete_cmd_postfix": ") ",
     "delete_cmd_prefix": "rm(",
     "library": "var_list.r",
     "varRefreshCmd": "cat(var_dic_list()) "
    }
   },
   "types_to_exclude": [
    "module",
    "function",
    "builtin_function_or_method",
    "instance",
    "_Feature"
   ],
   "window_display": false
  }
 },
 "nbformat": 4,
 "nbformat_minor": 2
}
