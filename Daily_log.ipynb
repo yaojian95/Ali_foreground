{
 "cells": [
  {
   "cell_type": "markdown",
   "metadata": {},
   "source": [
    "- Daily log\n",
    "\n",
    "\n",
    "> 0406 Add group 3-faint point sources, apply Namaster after LH's meth: Group3_4_fre_LH_Namaster_noisy_95GHz_beam\n",
    "\n",
    "> 0407 group2 only, apply namaster after LH's method: Group2_only_4_fre_LH_Namaster_noisy_95GHz_beam\n",
    "\n",
    "> 0408- ring part with **anisotropic noise**, 4_fre, 70-95-150-353 : Ring_Group2_only_4_fre_LH_Namaster_noisy_95GHz_beam\n",
    "\n",
    "> 0409- ring part with **isotropic noise**, 3_fre, 95-150-353 : Ring_Group2_only_4_fre_LH_Namaster_iso_noise_95GHz_beam\n",
    "\n",
    "> 0416 - Try the Global ILC proposed by Saha."
   ]
  },
  {
   "cell_type": "code",
   "execution_count": null,
   "metadata": {},
   "outputs": [],
   "source": []
  }
 ],
 "metadata": {
  "kernelspec": {
   "display_name": "Python 3",
   "language": "python",
   "name": "python3"
  },
  "language_info": {
   "codemirror_mode": {
    "name": "ipython",
    "version": 3
   },
   "file_extension": ".py",
   "mimetype": "text/x-python",
   "name": "python",
   "nbconvert_exporter": "python",
   "pygments_lexer": "ipython3",
   "version": "3.7.3"
  },
  "toc": {
   "base_numbering": 1,
   "nav_menu": {},
   "number_sections": true,
   "sideBar": true,
   "skip_h1_title": false,
   "title_cell": "Table of Contents",
   "title_sidebar": "Contents",
   "toc_cell": false,
   "toc_position": {},
   "toc_section_display": true,
   "toc_window_display": false
  },
  "varInspector": {
   "cols": {
    "lenName": 16,
    "lenType": 16,
    "lenVar": 40
   },
   "kernels_config": {
    "python": {
     "delete_cmd_postfix": "",
     "delete_cmd_prefix": "del ",
     "library": "var_list.py",
     "varRefreshCmd": "print(var_dic_list())"
    },
    "r": {
     "delete_cmd_postfix": ") ",
     "delete_cmd_prefix": "rm(",
     "library": "var_list.r",
     "varRefreshCmd": "cat(var_dic_list()) "
    }
   },
   "types_to_exclude": [
    "module",
    "function",
    "builtin_function_or_method",
    "instance",
    "_Feature"
   ],
   "window_display": false
  }
 },
 "nbformat": 4,
 "nbformat_minor": 2
}
